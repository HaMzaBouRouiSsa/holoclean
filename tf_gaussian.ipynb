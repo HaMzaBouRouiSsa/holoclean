{
 "cells": [
  {
   "cell_type": "code",
   "execution_count": 1,
   "metadata": {
    "scrolled": true
   },
   "outputs": [],
   "source": [
    "import tensorflow as tf\n",
    "import numpy as np"
   ]
  },
  {
   "cell_type": "code",
   "execution_count": 18,
   "metadata": {
    "collapsed": true
   },
   "outputs": [],
   "source": [
    "# Generate the data which comes from\n",
    "# three different Gaussian distributions\n",
    "\n",
    "\n",
    "dt = []\n",
    "n1 = np.random.normal(1, 1, 200)\n",
    "n2 = np.random.normal(2, 1, 200)\n",
    "n3 = np.random.normal(3, 1, 200)\n",
    "\n",
    "for n in n1:\n",
    "    dt.append([n, [1, 0, 0]])\n",
    "\n",
    "for n in n2:\n",
    "    dt.append([n, [0, 1, 0]])\n",
    "\n",
    "for n in n3:\n",
    "    dt.append([n, [0, 0, 1]])\n",
    "\n",
    "np.random.shuffle(dt)\n",
    "\n",
    "# separating the data from the labels\n",
    "dt_labels = []\n",
    "dt_vals = []\n",
    "\n",
    "for d in dt:\n",
    "    dt_vals.append([d[0]])\n",
    "    dt_labels.append(d[1])\n",
    "\n",
    "# size of training\n",
    "train_size = int(0.8 * len(dt))\n",
    "\n",
    "train_dt_vals = dt_vals[:train_size]\n",
    "train_dt_lbls = dt_labels[:train_size]\n",
    "test_dt_vals = dt_vals[train_size:]\n",
    "test_dt_lbls = dt_labels[train_size:]"
   ]
  },
  {
   "cell_type": "code",
   "execution_count": 19,
   "metadata": {
    "collapsed": true
   },
   "outputs": [],
   "source": [
    "import tensorflow as tf\n",
    "sess = tf.InteractiveSession()"
   ]
  },
  {
   "cell_type": "code",
   "execution_count": 20,
   "metadata": {
    "collapsed": true
   },
   "outputs": [],
   "source": [
    "# None corresponds to batch size, which can be any\n",
    "# 1 corresponds to size of the data we feed in\n",
    "x = tf.placeholder(tf.float32, shape=[None, 1])\n",
    "\n",
    "# 3 corresponds to the one-hot 3-d vector indicating which distr\n",
    "y_ = tf.placeholder(tf.float32, shape = [None, 3])"
   ]
  },
  {
   "cell_type": "code",
   "execution_count": 21,
   "metadata": {
    "collapsed": true
   },
   "outputs": [],
   "source": [
    "# 1 input feature and 3 outputs\n",
    "W = tf.Variable(tf.zeros([1, 3]))\n",
    "\n",
    "# 3 classes\n",
    "b = tf.Variable(tf.zeros([3]))\n",
    "\n",
    "sess.run(tf.global_variables_initializer())"
   ]
  },
  {
   "cell_type": "code",
   "execution_count": 22,
   "metadata": {
    "collapsed": true
   },
   "outputs": [],
   "source": [
    "# define regression model\n",
    "y = tf.matmul(x, W) + b"
   ]
  },
  {
   "cell_type": "code",
   "execution_count": 23,
   "metadata": {
    "collapsed": true
   },
   "outputs": [],
   "source": [
    "# loss function\n",
    "cross_entropy = tf.reduce_mean(\n",
    "    tf.nn.softmax_cross_entropy_with_logits(labels=y_, logits=y))"
   ]
  },
  {
   "cell_type": "code",
   "execution_count": 24,
   "metadata": {
    "collapsed": true
   },
   "outputs": [],
   "source": [
    "# Train the model\n",
    "train_step = tf.train.GradientDescentOptimizer(0.5).minimize(cross_entropy)\n",
    "\n",
    "for _ in range(1000):\n",
    "    train_step.run(feed_dict={x: train_dt_vals, y_: train_dt_lbls})\n"
   ]
  },
  {
   "cell_type": "code",
   "execution_count": 25,
   "metadata": {},
   "outputs": [
    {
     "name": "stdout",
     "output_type": "stream",
     "text": [
      "0.55\n"
     ]
    }
   ],
   "source": [
    "correct_prediction = tf.equal(tf.argmax(y,1), tf.argmax(y_,1))\n",
    "accuracy = tf.reduce_mean(tf.cast(correct_prediction, tf.float32))\n",
    "\n",
    "print(accuracy.eval(feed_dict={x: test_dt_vals, y_: test_dt_lbls}))\n"
   ]
  },
  {
   "cell_type": "code",
   "execution_count": null,
   "metadata": {
    "collapsed": true
   },
   "outputs": [],
   "source": []
  }
 ],
 "metadata": {
  "kernelspec": {
   "display_name": "Python 2",
   "language": "python",
   "name": "python2"
  },
  "language_info": {
   "codemirror_mode": {
    "name": "ipython",
    "version": 2
   },
   "file_extension": ".py",
   "mimetype": "text/x-python",
   "name": "python",
   "nbconvert_exporter": "python",
   "pygments_lexer": "ipython2",
   "version": "2.7.10"
  }
 },
 "nbformat": 4,
 "nbformat_minor": 2
}
